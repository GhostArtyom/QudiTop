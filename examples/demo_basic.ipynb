{
 "cells": [
  {
   "cell_type": "markdown",
   "id": "4b90aa2d-bf3e-4d43-807d-87d65209d444",
   "metadata": {},
   "source": [
    "# 量子门与量子线路基础操作"
   ]
  },
  {
   "cell_type": "code",
   "execution_count": 3,
   "id": "b36749a3-4e3e-4fb3-9c13-f5a3a3794cd6",
   "metadata": {},
   "outputs": [],
   "source": [
    "# pylint: disable=W0104\n",
    "import sys\n",
    "sys.path.append(\"../\")\n",
    "\n",
    "import numpy as np\n",
    "from quditop.gates import H, X, Y, Z, RX, RY, RZ, SX, SY, SZ, UMG\n",
    "from quditop.circuit import Circuit"
   ]
  },
  {
   "cell_type": "code",
   "execution_count": 4,
   "id": "e209eb92-59dc-4573-a993-55424a49f2a0",
   "metadata": {
    "tags": []
   },
   "outputs": [
    {
     "name": "stdout",
     "output_type": "stream",
     "text": [
      "Circuit(\n",
      "  (gates): ModuleList(\n",
      "    (0): H(2|0)\n",
      "    (1): X(2 0 1|0 <-: 2 3)\n",
      "    (2): Y(2 0 1|1)\n",
      "    (3): Z(2 0 1|1 <-: 2)\n",
      "    (4): RX(2 0 1 param|3)\n",
      "    (5): RY(2 0 1 _param_|2 <-: 3)\n",
      "    (6): X(2 0 1|1 <-: 0 2 3)\n",
      "    (7): RY(2 0 1 _param_|3 <-: 0 1 2)\n",
      "  )\n",
      ")\n"
     ]
    }
   ],
   "source": [
    "# Build a quantum circuit\n",
    "\n",
    "dim = 2\n",
    "n_qudits = 4\n",
    "\n",
    "circ = Circuit(dim, n_qudits, gates=[\n",
    "    H(dim).on(0),\n",
    "    X(dim, i=0, j=1).on(0, [2,3]),\n",
    "    Y(dim, i=0, j=1).on(1),\n",
    "    Z(dim).on(1, 2),\n",
    "    RX(dim, i=0, j=1, pr='param').on(3),\n",
    "    RY(dim, i=0, j=1, pr=1.0).on(2, 3),\n",
    "    X(dim).on(1, [0, 2, 3]),     # Default: i=0, j=1\n",
    "    RY(dim, pr=2.0).on(3, [0, 1, 2])\n",
    "])\n",
    "\n",
    "print(circ)"
   ]
  },
  {
   "cell_type": "code",
   "execution_count": 5,
   "id": "3f58659e-1bb9-4828-8f0c-208ee4132ece",
   "metadata": {},
   "outputs": [
    {
     "data": {
      "text/plain": [
       "['param', '_param_', '_param_']"
      ]
     },
     "execution_count": 5,
     "metadata": {},
     "output_type": "execute_result"
    }
   ],
   "source": [
    "# print the parameter names, where the `_param_` is default name.\n",
    "circ.param_name"
   ]
  },
  {
   "cell_type": "code",
   "execution_count": 6,
   "id": "e440de16-2ef2-4949-8326-4859e30435fa",
   "metadata": {},
   "outputs": [
    {
     "name": "stdout",
     "output_type": "stream",
     "text": [
      "Circuit(\n",
      "  (gates): ModuleList(\n",
      "    (0): H(2|0)\n",
      "    (1): X(2 0 1|0 <-: 2 3)\n",
      "    (2): Y(2 0 1|1)\n",
      "    (3): Z(2 0 1|1 <-: 2)\n",
      "    (4): RX(2 0 1 param|3)\n",
      "    (5): RY(2 0 1 _param_|2 <-: 3)\n",
      "    (6): X(2 0 1|1 <-: 0 2 3)\n",
      "    (7): RY(2 0 1 _param_|3 <-: 0 1 2)\n",
      "    (8): RZ(2 0 1 pr_z|3)\n",
      "    (9): RX(2 0 1 _param_|2)\n",
      "    (10): X(2 0 1|2)\n",
      "    (11): Y(2 0 1|0 <-: 3)\n",
      "    (12): Z(2 0 1|1)\n",
      "    (13): Z(2 0 1|2)\n",
      "  )\n",
      ")\n"
     ]
    }
   ],
   "source": [
    "# We can add new gate(s) or circuit to old circuit easily.\n",
    "\n",
    "circ += RZ(pr='pr_z').on(3)\n",
    "circ.append(RX(pr=2.0).on(2))\n",
    "circ += [X(dim).on(2), Y(dim).on(0, 3)]\n",
    "circ += Circuit(dim, n_qudits, gates=[Z(dim).on(1), Z(dim).on(2)])\n",
    "\n",
    "print(circ)"
   ]
  },
  {
   "cell_type": "code",
   "execution_count": 7,
   "id": "ae391004-8807-4aae-9761-701f1406d9f6",
   "metadata": {},
   "outputs": [
    {
     "name": "stdout",
     "output_type": "stream",
     "text": [
      "==========================Circuit Summary==========================\n",
      "|Total number of gates   : 14.                                    |\n",
      "|Parameter gates         : 5.                                     |\n",
      "|with 5 parameters are   :                                        |\n",
      "|param, _param_, _param_, pr_z, _param_                         . |\n",
      "|Number qudits of circuit: 4                                      |\n",
      "===================================================================\n"
     ]
    }
   ],
   "source": [
    "# print the summary of circuit.\n",
    "\n",
    "circ.summary()"
   ]
  },
  {
   "cell_type": "code",
   "execution_count": 8,
   "id": "14f172ea-b809-490a-b74e-82e82aecfa89",
   "metadata": {},
   "outputs": [
    {
     "name": "stdout",
     "output_type": "stream",
     "text": [
      "quantum state in numpy.array:\n",
      "[ 0.        +0.j          0.        +0.j         -0.45824748+0.25034174j\n",
      " -0.45824748+0.25034174j  0.        +0.j          0.        +0.j\n",
      "  0.1607426 +0.29423735j  0.1607426 +0.29423735j  0.04210032-0.07706411j\n",
      "  0.        +0.j          0.21969555+0.12002024j -0.17759523-0.19708435j\n",
      "  0.12002023+0.06556735j  0.        +0.j          0.07706412-0.1410649j\n",
      "  0.04295611+0.20663226j]\n",
      "\n",
      "quantum state in ket:\n",
      "-0.4582+0.2503j¦0010⟩\n",
      "-0.4582+0.2503j¦0011⟩\n",
      "0.1607+0.2942j¦0110⟩\n",
      "0.1607+0.2942j¦0111⟩\n",
      "0.0421-0.0771j¦1000⟩\n",
      "0.2197+0.12j¦1010⟩\n",
      "-0.1776-0.1971j¦1011⟩\n",
      "0.12+0.0656j¦1100⟩\n",
      "0.0771-0.1411j¦1110⟩\n",
      "0.043+0.2066j¦1111⟩\n"
     ]
    }
   ],
   "source": [
    "# Get the quantum state of circuit.\n",
    "print(f\"quantum state in numpy.array:\\n{circ.get_qs()}\\n\")\n",
    "print(f\"quantum state in ket:\\n{circ.get_qs(ket=True)}\")"
   ]
  },
  {
   "cell_type": "code",
   "execution_count": 9,
   "id": "8360b9d4-b95b-4491-a5aa-80f6a1de3d25",
   "metadata": {
    "tags": []
   },
   "outputs": [
    {
     "name": "stdout",
     "output_type": "stream",
     "text": [
      "n_qudits: 4\n",
      "qs:\n",
      "[ 0.        +0.j          0.        +0.j          0.        +0.j\n",
      "  0.        +0.j          0.        +0.j          0.        +0.j\n",
      "  0.52217025+0.33528167j  0.52217025+0.33528167j  0.        +0.j\n",
      "  0.        +0.j          0.        +0.j          0.        +0.j\n",
      "  0.        +0.j          0.        +0.j          0.2852629 -0.18316522j\n",
      " -0.2852629 +0.18316522j]\n"
     ]
    }
   ],
   "source": [
    "# We can get the state of quantum with specific value.\n",
    "default_value = 0.0\n",
    "qs = circ.get_qs({'param': 1.0, 'pr_z': 2.0, '_param_':default_value})\n",
    "\n",
    "print(f'n_qudits: {circ.n_qudits}')\n",
    "print(f'qs:\\n{qs}')"
   ]
  },
  {
   "cell_type": "code",
   "execution_count": 10,
   "id": "e05a0a1b-3999-4f05-9ce8-d34cc33205ad",
   "metadata": {},
   "outputs": [
    {
     "data": {
      "text/plain": [
       "[Parameter containing:\n",
       " tensor([1.], requires_grad=True),\n",
       " Parameter containing:\n",
       " tensor([0.], requires_grad=True),\n",
       " Parameter containing:\n",
       " tensor([0.], requires_grad=True),\n",
       " Parameter containing:\n",
       " tensor([2.], requires_grad=True),\n",
       " Parameter containing:\n",
       " tensor([0.], requires_grad=True)]"
      ]
     },
     "execution_count": 10,
     "metadata": {},
     "output_type": "execute_result"
    }
   ],
   "source": [
    "# print the trainable paramters, this interface is herited from torch.nn.Module.\n",
    "list(circ.parameters())"
   ]
  },
  {
   "cell_type": "code",
   "execution_count": 11,
   "id": "38415944-73e8-4307-8029-443272f15807",
   "metadata": {},
   "outputs": [
    {
     "data": {
      "text/plain": [
       "[Parameter containing:\n",
       " tensor([1.]),\n",
       " Parameter containing:\n",
       " tensor([0.]),\n",
       " Parameter containing:\n",
       " tensor([0.]),\n",
       " Parameter containing:\n",
       " tensor([2.]),\n",
       " Parameter containing:\n",
       " tensor([0.])]"
      ]
     },
     "execution_count": 11,
     "metadata": {},
     "output_type": "execute_result"
    }
   ],
   "source": [
    "# Convert the circuit to encoder, we can see that there's no `requires_grad` for parameters.\n",
    "circ.as_encoder()\n",
    "# You can also do it by method `circ.no_grad()`\n",
    "list(circ.parameters())"
   ]
  },
  {
   "cell_type": "raw",
   "id": "9b5b0545-daac-4937-96ce-14f03df5ec60",
   "metadata": {},
   "source": [
    "Circuit(\n",
    "  (gates): ModuleList(\n",
    "    (0): H(2|0)\n",
    "    (1): X(2 0 1|0 <-: 2 3)\n",
    "    (2): Y(2 0 1|1)\n",
    "    (3): Z(2 0 1|1 <-: 2)\n",
    "    (4): RX(2 0 1 param|3)\n",
    "    (5): RY(2 0 1 _param_|2 <-: 3)\n",
    "    (6): X(2 0 1|1 <-: 0 2 3)\n",
    "    (7): RY(2 0 1 _param_|3 <-: 0 1 2)\n",
    "    (8): RZ(2 0 1 pr_z|3)\n",
    "    (9): RX(2 0 1 _param_|2)\n",
    "    (10): X(2 0 1|2)\n",
    "    (11): Y(2 0 1|0 <-: 3)\n",
    "    (12): Z(2 0 1|1)\n",
    "    (13): Z(2 0 1|2)\n",
    "  )\n",
    ")"
   ]
  },
  {
   "cell_type": "code",
   "execution_count": 12,
   "id": "6ad839b4-1d3e-4d11-94fe-1a98764f2c06",
   "metadata": {},
   "outputs": [
    {
     "name": "stdout",
     "output_type": "stream",
     "text": [
      "n_qubit: 4\n",
      "mindquantum qs:\n",
      "[ 0.        +0.j          0.        +0.j         -0.        +0.j\n",
      " -0.        +0.j         -0.        +0.j         -0.        +0.j\n",
      "  0.52217026+0.33528167j  0.52217026+0.33528167j  0.        +0.j\n",
      "  0.        +0.j         -0.        +0.j         -0.        +0.j\n",
      " -0.        +0.j         -0.        +0.j          0.28526291-0.18316521j\n",
      " -0.28526291+0.18316521j]\n"
     ]
    }
   ],
   "source": [
    "# Compare with `mindquantum`\n",
    "# Here we build a circuit by mindquantum with the same parameters.\n",
    "\n",
    "import mindquantum as mq\n",
    "    \n",
    "mq_circ = mq.Circuit([\n",
    "    mq.H.on(0),\n",
    "    mq.X.on(0, [2,3]),\n",
    "    mq.Y.on(1),\n",
    "    mq.Z.on(1, 2),\n",
    "    mq.RX(1.0).on(3),\n",
    "    mq.RY(0.0).on(2, 3),\n",
    "    mq.X(1, [0, 2, 3]),\n",
    "    mq.RY(0.0).on(3, [0, 1, 2]),\n",
    "    mq.RZ(2.0).on(3),\n",
    "    mq.RX(0.0).on(2),\n",
    "    mq.X(2),\n",
    "    mq.Y(0, 3),\n",
    "    mq.Z(1),\n",
    "    mq.Z(2)\n",
    "])\n",
    "\n",
    "mq_qs = mq_circ.get_qs()\n",
    "\n",
    "print(f'n_qubit: {mq_circ.n_qubits}')\n",
    "print(f'mindquantum qs:\\n{mq_qs}')"
   ]
  },
  {
   "cell_type": "code",
   "execution_count": 13,
   "id": "4bbbef45-b64e-434a-ac51-ff4abf654b2c",
   "metadata": {},
   "outputs": [
    {
     "name": "stdout",
     "output_type": "stream",
     "text": [
      "[ True  True  True  True  True  True  True  True  True  True  True  True\n",
      "  True  True  True  True]\n"
     ]
    }
   ],
   "source": [
    "# We can see that the QuditWorld circuit has the same output as MindQuantum\n",
    "\n",
    "print(np.isclose(qs, mq_qs))"
   ]
  },
  {
   "cell_type": "code",
   "execution_count": 14,
   "id": "d9899aaa-cd74-49e0-ab75-98197e775ea4",
   "metadata": {},
   "outputs": [
    {
     "name": "stdout",
     "output_type": "stream",
     "text": [
      "circ2:\n",
      "Circuit(\n",
      "  (gates): ModuleList(\n",
      "    (0): UMG(3|2)\n",
      "    (1): UMG(3|0)\n",
      "    (2): RX(3 0 2 _param_|2)\n",
      "    (3): RY(3 1 2 _param_|3 <-: 2)\n",
      "    (4): RZ(3 2 0 _param_|3 <-: 2)\n",
      "  )\n",
      ")\n",
      "circ2 qs:\n",
      "[-2.5192971 +0.24041227j -0.06222615+0.00593814j -0.12079111+0.01152689j\n",
      "  0.        +0.j          0.        +0.j          0.        +0.j\n",
      "  0.        +0.j          0.        +0.j          0.        +0.j\n",
      "  0.5883034 +0.3213916j   0.01453098+0.00793831j  0.02820701+0.01540956j\n",
      "  0.        +0.j          0.        +0.j          0.        +0.j\n",
      "  0.        +0.j          0.        +0.j          0.        +0.j\n",
      " -0.44007167+1.3762983j  -0.01086968+0.0339943j  -0.02109983+0.06598849j\n",
      "  0.        +0.j          0.        +0.j          0.        +0.j\n",
      "  0.        +0.j          0.        +0.j          0.        +0.j\n",
      "  0.        +0.j          0.        +0.j          0.        +0.j\n",
      "  0.        +0.j          0.        +0.j          0.        +0.j\n",
      "  0.        +0.j          0.        +0.j          0.        +0.j\n",
      "  0.        +0.j          0.        +0.j          0.        +0.j\n",
      "  0.        +0.j          0.        +0.j          0.        +0.j\n",
      "  0.        +0.j          0.        +0.j          0.        +0.j\n",
      "  0.        +0.j          0.        +0.j          0.        +0.j\n",
      "  0.        +0.j          0.        +0.j          0.        +0.j\n",
      "  0.        +0.j          0.        +0.j          0.        +0.j\n",
      "  0.        +0.j          0.        +0.j          0.        +0.j\n",
      "  0.        +0.j          0.        +0.j          0.        +0.j\n",
      "  0.        +0.j          0.        +0.j          0.        +0.j\n",
      "  0.        +0.j          0.        +0.j          0.        +0.j\n",
      "  0.        +0.j          0.        +0.j          0.        +0.j\n",
      "  0.        +0.j          0.        +0.j          0.        +0.j\n",
      "  0.        +0.j          0.        +0.j          0.        +0.j\n",
      "  0.        +0.j          0.        +0.j          0.        +0.j\n",
      "  0.        +0.j          0.        +0.j          0.        +0.j        ]\n"
     ]
    }
   ],
   "source": [
    "# QuditWorld support qudits.\n",
    "import torch\n",
    "\n",
    "dim = 3\n",
    "n_qudits = 4\n",
    "\n",
    "circ2 = Circuit(dim, n_qudits, gates=[\n",
    "    UMG(dim, mat=torch.randn(dim, dim)).on(2),\n",
    "    UMG(dim, mat=torch.randn(dim, dim)).on(0),\n",
    "    RX(dim, i=0, j=2, pr=1.0).on(2),\n",
    "    RY(dim, i=1, j=2).on(3, 2),\n",
    "    RZ(dim, i=2, j=0).on(3, 2),\n",
    "])\n",
    "\n",
    "print(f\"circ2:\\n{circ2}\")\n",
    "print(f\"circ2 qs:\\n{circ2.get_qs()}\")"
   ]
  },
  {
   "cell_type": "code",
   "execution_count": 18,
   "id": "bced9ff1-ecf0-46c2-9ede-95dc765496cd",
   "metadata": {},
   "outputs": [
    {
     "name": "stdout",
     "output_type": "stream",
     "text": [
      "umg.matrix:\n",
      "tensor([[ 0.2322+0.j, -0.0897+0.j,  0.6270+0.j],\n",
      "        [ 1.9810+0.j, -0.5620+0.j,  0.1469+0.j],\n",
      "        [-0.3233+0.j,  0.0664+0.j,  1.2227+0.j]])\n",
      "is_unitary: False\n"
     ]
    }
   ],
   "source": [
    "# Note: In QuditWorld, we don't limit that the matrix must be unitary.\n",
    "# We provide the `is_unitary()` method to check if the matrix of gate is unitary.\n",
    "\n",
    "umg = UMG(dim, mat=torch.randn(dim, dim)).on(2)\n",
    "print(f\"umg.matrix:\\n{umg.matrix()}\")\n",
    "print(f\"is_unitary: {umg.is_unitary()}\")"
   ]
  }
 ],
 "metadata": {
  "kernelspec": {
   "display_name": "Python 3 (ipykernel)",
   "language": "python",
   "name": "python3"
  },
  "language_info": {
   "codemirror_mode": {
    "name": "ipython",
    "version": 3
   },
   "file_extension": ".py",
   "mimetype": "text/x-python",
   "name": "python",
   "nbconvert_exporter": "python",
   "pygments_lexer": "ipython3",
   "version": "3.8.18"
  }
 },
 "nbformat": 4,
 "nbformat_minor": 5
}
