{
 "cells": [
  {
   "cell_type": "markdown",
   "id": "4b90aa2d-bf3e-4d43-807d-87d65209d444",
   "metadata": {},
   "source": [
    "# Get Started"
   ]
  },
  {
   "cell_type": "code",
   "execution_count": 1,
   "id": "b36749a3-4e3e-4fb3-9c13-f5a3a3794cd6",
   "metadata": {},
   "outputs": [],
   "source": [
    "# pylint: disable=W0104\n",
    "import sys\n",
    "sys.path.append(\"../\")\n",
    "\n",
    "import numpy as np\n",
    "from quditop.gates import H, X, Y, Z, RX, RY, RZ, UMG, SWAP, MVCG, GP\n",
    "from quditop.circuit import Circuit"
   ]
  },
  {
   "cell_type": "code",
   "execution_count": 2,
   "id": "ca185dbc-410f-43a4-835f-ae72d185b453",
   "metadata": {
    "scrolled": true
   },
   "outputs": [
    {
     "name": "stdout",
     "output_type": "stream",
     "text": [
      "No valid control:\n",
      "1¦010⟩\n",
      "No valid control:\n",
      "1¦101⟩\n"
     ]
    }
   ],
   "source": [
    "dim = 3\n",
    "n_qudits = 3\n",
    "\n",
    "ctrl_qudits = 0\n",
    "ctrl_states = 1\n",
    "cir = Circuit(dim, n_qudits, gates=[\n",
    "    X(dim, [0,1]).on(1),\n",
    "    SWAP(dim, [0,1]).on([1, 2], ctrl_qudits, ctrl_states)\n",
    "])\n",
    "\n",
    "qs1 = cir.get_qs(ket=True)\n",
    "print(f\"No valid control:\\n{qs1}\")\n",
    "\n",
    "cir2 = Circuit(dim, n_qudits, gates=[\n",
    "    X(dim, [0, ctrl_states]).on(0),\n",
    "    X(dim, [0, 1]).on(1),\n",
    "    SWAP(dim).on([1, 2], ctrl_qudits, ctrl_states)\n",
    "])\n",
    "\n",
    "qs2 = cir2.get_qs(ket=True)\n",
    "print(f\"No valid control:\\n{qs2}\")"
   ]
  },
  {
   "cell_type": "code",
   "execution_count": 3,
   "id": "e209eb92-59dc-4573-a993-55424a49f2a0",
   "metadata": {
    "tags": []
   },
   "outputs": [
    {
     "name": "stdout",
     "output_type": "stream",
     "text": [
      "Circuit(\n",
      "  (gates): ModuleList(\n",
      "    (0): H(2|0)\n",
      "    (1): X(2 [0 1]|0 <-: 2 3 - 1 1)\n",
      "    (2): Y(2 [0 1]|1)\n",
      "    (3): Z(2 [0 1]|1 <-: 2 - 1)\n",
      "    (4): RX(2 [0 1] param|3)\n",
      "    (5): RY(2 [0 1] 1|2 <-: 3 - 1)\n",
      "    (6): X(2 [0 1]|1 <-: 0 2 3 - 1 1 1)\n",
      "    (7): RY(2 [0 1] 2|3 <-: 0 1 2 - 1 1 1)\n",
      "  )\n",
      ")\n"
     ]
    }
   ],
   "source": [
    "# Build a quantum circuit\n",
    "\n",
    "dim = 2\n",
    "n_qudits = 4\n",
    "\n",
    "circ = Circuit(dim, n_qudits, gates=[\n",
    "    H(dim, [0,1]).on(0),\n",
    "    X(dim, [0,1]).on(0, [2,3], [1, 1]),\n",
    "    Y(dim, [0,1]).on(1),\n",
    "    Z(dim, [0,1]).on(1, 2, 1),\n",
    "    RX(dim, [0,1], pr='param').on(3),\n",
    "    RY(dim, [0,1], pr=1.0).on(2, 3, 1),\n",
    "    X(dim, [0,1]).on(1, [0, 2, 3], 1),\n",
    "    RY(dim, [0,1], pr=2.0).on(3, [0, 1, 2], 1)\n",
    "])\n",
    "\n",
    "print(circ)"
   ]
  },
  {
   "cell_type": "code",
   "execution_count": 4,
   "id": "3f58659e-1bb9-4828-8f0c-208ee4132ece",
   "metadata": {},
   "outputs": [
    {
     "data": {
      "text/plain": [
       "['param', '1', '2']"
      ]
     },
     "execution_count": 4,
     "metadata": {},
     "output_type": "execute_result"
    }
   ],
   "source": [
    "# print the parameter names, where the `_param_` is default name.\n",
    "\n",
    "circ.param_name"
   ]
  },
  {
   "cell_type": "code",
   "execution_count": 5,
   "id": "e440de16-2ef2-4949-8326-4859e30435fa",
   "metadata": {},
   "outputs": [
    {
     "name": "stdout",
     "output_type": "stream",
     "text": [
      "Circuit(\n",
      "  (gates): ModuleList(\n",
      "    (0): H(2|0)\n",
      "    (1): X(2 [0 1]|0 <-: 2 3 - 1 1)\n",
      "    (2): Y(2 [0 1]|1)\n",
      "    (3): Z(2 [0 1]|1 <-: 2 - 1)\n",
      "    (4): RX(2 [0 1] param|3)\n",
      "    (5): RY(2 [0 1] 1|2 <-: 3 - 1)\n",
      "    (6): X(2 [0 1]|1 <-: 0 2 3 - 1 1 1)\n",
      "    (7): RY(2 [0 1] 2|3 <-: 0 1 2 - 1 1 1)\n",
      "    (8): RZ(2 [0 1] pr_z|3)\n",
      "    (9): RX(2 [0 1] 2|2)\n",
      "    (10): X(2 [0 1]|2)\n",
      "    (11): Y(2 [0 1]|0 <-: 3 - 1)\n",
      "    (12): Z(2 [0 1]|1)\n",
      "    (13): Z(2 [0 1]|2)\n",
      "  )\n",
      ")\n"
     ]
    }
   ],
   "source": [
    "# We can add new gate(s) or circuit to old circuit easily.\n",
    "# circ = Circuit(dim, n_qudits)\n",
    "\n",
    "circ += RZ(dim, [0, 1], pr='pr_z').on(3)\n",
    "circ.append(RX(dim, [0, 1], pr=2.0).on(2))\n",
    "circ += X(dim, [0, 1]).on(2)\n",
    "circ += Y(dim, [0, 1]).on(0, 3)\n",
    "circ += Circuit(dim, n_qudits, gates=[Z(dim, [0, 1]).on(1), Z(dim, [0, 1]).on(2)])\n",
    "\n",
    "print(circ)"
   ]
  },
  {
   "cell_type": "code",
   "execution_count": 6,
   "id": "ae391004-8807-4aae-9761-701f1406d9f6",
   "metadata": {},
   "outputs": [
    {
     "name": "stdout",
     "output_type": "stream",
     "text": [
      "=================Circuit Summary=================\n",
      "|Total number of gates   : 14.                  |\n",
      "|Parameter gates         : 5.                   |\n",
      "|with 5 parameters are   :                      |\n",
      "|param, 1, 2, pr_z, 2                         . |\n",
      "|Number qudits of circuit: 4                    |\n",
      "=================================================\n"
     ]
    }
   ],
   "source": [
    "# print the summary of circuit.\n",
    "\n",
    "circ.summary()"
   ]
  },
  {
   "cell_type": "code",
   "execution_count": 7,
   "id": "14f172ea-b809-490a-b74e-82e82aecfa89",
   "metadata": {},
   "outputs": [
    {
     "name": "stdout",
     "output_type": "stream",
     "text": [
      "quantum state in numpy.array:\n",
      "[ 0.        +0.j          0.        +0.j          0.        +0.j\n",
      "  0.        +0.j         -0.59500982+0.j          0.        +0.j\n",
      "  0.        +0.38205145j  0.        +0.j          0.        +0.j\n",
      "  0.        +0.j          0.        +0.j          0.        +0.j\n",
      " -0.59500982+0.j          0.        +0.j          0.        +0.38205145j\n",
      "  0.        +0.j        ]\n",
      "\n",
      "quantum state in ket:\n",
      "-0.595¦0100⟩\n",
      "0.3821j¦0110⟩\n",
      "-0.595¦1100⟩\n",
      "0.3821j¦1110⟩\n"
     ]
    }
   ],
   "source": [
    "# Get the quantum state of circuit.\n",
    "print(f\"quantum state in numpy.array:\\n{circ.get_qs()}\\n\")\n",
    "print(f\"quantum state in ket:\\n{circ.get_qs(ket=True)}\")"
   ]
  },
  {
   "cell_type": "code",
   "execution_count": 8,
   "id": "8360b9d4-b95b-4491-a5aa-80f6a1de3d25",
   "metadata": {
    "tags": []
   },
   "outputs": [
    {
     "name": "stdout",
     "output_type": "stream",
     "text": [
      "n_qudits: 4\n",
      "qs:\n",
      "[ 0.        +0.j          0.        +0.j         -0.52217023+0.j\n",
      " -0.52217023+0.j          0.        +0.j          0.        +0.j\n",
      "  0.        +0.33528168j  0.        +0.33528168j  0.        -0.08781409j\n",
      "  0.        +0.j          0.25034175+0.j         -0.25034175-0.08781409j\n",
      "  0.13676233+0.j          0.        +0.j          0.        -0.1607426j\n",
      "  0.13676233+0.1607426j ]\n"
     ]
    }
   ],
   "source": [
    "# We can get the state of quantum with specific value.\n",
    "default_value = 0.0\n",
    "qs = circ.get_qs({'param': 1.0}, endian_reverse=True)\n",
    "\n",
    "print(f'n_qudits: {circ.n_qudits}')\n",
    "print(f'qs:\\n{qs}')"
   ]
  },
  {
   "cell_type": "code",
   "execution_count": 9,
   "id": "e05a0a1b-3999-4f05-9ce8-d34cc33205ad",
   "metadata": {},
   "outputs": [
    {
     "data": {
      "text/plain": [
       "[Parameter containing:\n",
       " tensor([1.], requires_grad=True),\n",
       " Parameter containing:\n",
       " tensor([1.], requires_grad=True),\n",
       " Parameter containing:\n",
       " tensor([2.], requires_grad=True),\n",
       " Parameter containing:\n",
       " tensor([0.], requires_grad=True),\n",
       " Parameter containing:\n",
       " tensor([2.], requires_grad=True)]"
      ]
     },
     "execution_count": 9,
     "metadata": {},
     "output_type": "execute_result"
    }
   ],
   "source": [
    "# print the trainable parameters, this interface inherits from torch.nn.Module.\n",
    "list(circ.parameters())"
   ]
  },
  {
   "cell_type": "code",
   "execution_count": 10,
   "id": "e33281e4-cb24-4241-b4b6-1f7572fffc9f",
   "metadata": {},
   "outputs": [
    {
     "name": "stdout",
     "output_type": "stream",
     "text": [
      "{'param': 1.0, '1': 1.0, '2': 2.0, 'pr_z': 0.0}\n"
     ]
    }
   ],
   "source": [
    "# Get the parameters of circuit.\n",
    "# Warn: The return is a dictionay, if two parameters with same name, the second one will overwrite the first one.\n",
    "\n",
    "print(circ.get_parameters())"
   ]
  },
  {
   "cell_type": "code",
   "execution_count": 11,
   "id": "38415944-73e8-4307-8029-443272f15807",
   "metadata": {},
   "outputs": [
    {
     "data": {
      "text/plain": [
       "[Parameter containing:\n",
       " tensor([1.]),\n",
       " Parameter containing:\n",
       " tensor([1.]),\n",
       " Parameter containing:\n",
       " tensor([2.]),\n",
       " Parameter containing:\n",
       " tensor([0.]),\n",
       " Parameter containing:\n",
       " tensor([2.])]"
      ]
     },
     "execution_count": 11,
     "metadata": {},
     "output_type": "execute_result"
    }
   ],
   "source": [
    "# Convert the circuit to encoder, we can see that there's no `requires_grad` for parameters.\n",
    "circ.as_encoder()\n",
    "# You can also do it by method `circ.no_grad()`\n",
    "list(circ.parameters())"
   ]
  },
  {
   "cell_type": "code",
   "execution_count": 12,
   "id": "d9899aaa-cd74-49e0-ab75-98197e775ea4",
   "metadata": {},
   "outputs": [
    {
     "name": "stdout",
     "output_type": "stream",
     "text": [
      "circ2:\n",
      "Circuit(\n",
      "  (gates): ModuleList(\n",
      "    (0): UMG(3|2)\n",
      "    (1): UMG(3|0 <-: 2 - 1)\n",
      "    (2): RX(3 [1 2] 1|2)\n",
      "    (3): RY(3 [0 2] _param_|3 <-: 2 - 2)\n",
      "    (4): RZ(3 [0 1] _param_|3 <-: 2 - 2)\n",
      "    (5): GP(3 gh_pr|3)\n",
      "  )\n",
      ")\n",
      "circ2 qs:\n",
      "[-1.38604367+0.j          0.        +0.j          0.        +0.j\n",
      " -0.32533786+0.07461847j  0.        +0.j          0.        +0.j\n",
      " -0.13658818+0.17773289j  0.        +0.j          0.        +0.j\n",
      "  0.        +0.j          0.        +0.j          0.        +0.j\n",
      "  0.        +0.j          0.        +0.j          0.        +0.j\n",
      "  0.        +0.j          0.        +0.j          0.        +0.j\n",
      "  0.        +0.j          0.        +0.j          0.        +0.j\n",
      "  0.        +0.j          0.        +0.j          0.        +0.j\n",
      "  0.        +0.j          0.        +0.j          0.        +0.j\n",
      "  0.        +0.j          0.        +0.j          0.        +0.j\n",
      " -0.27681784+0.j          0.        +0.j          0.        +0.j\n",
      "  0.        +0.15122628j  0.        +0.j          0.        +0.j\n",
      "  0.        +0.j          0.        +0.j          0.        +0.j\n",
      "  0.        +0.j          0.        +0.j          0.        +0.j\n",
      "  0.        +0.j          0.        +0.j          0.        +0.j\n",
      "  0.        +0.j          0.        +0.j          0.        +0.j\n",
      "  0.        +0.j          0.        +0.j          0.        +0.j\n",
      "  0.        +0.j          0.        +0.j          0.        +0.j\n",
      "  0.        +0.j          0.        +0.j          0.        +0.j\n",
      " -0.13360915+0.j          0.        +0.j          0.        +0.j\n",
      "  0.        +0.07299101j  0.        +0.j          0.        +0.j\n",
      "  0.        +0.j          0.        +0.j          0.        +0.j\n",
      "  0.        +0.j          0.        +0.j          0.        +0.j\n",
      "  0.        +0.j          0.        +0.j          0.        +0.j\n",
      "  0.        +0.j          0.        +0.j          0.        +0.j\n",
      "  0.        +0.j          0.        +0.j          0.        +0.j\n",
      "  0.        +0.j          0.        +0.j          0.        +0.j        ]\n"
     ]
    }
   ],
   "source": [
    "# QuditWorld support qudits.\n",
    "import torch\n",
    "\n",
    "dim = 3\n",
    "n_qudits = 4\n",
    "\n",
    "circ2 = Circuit(dim, n_qudits, gates=[\n",
    "    UMG(dim, mat=torch.randn(dim, dim)).on(2),\n",
    "    UMG(dim, mat=torch.randn(dim, dim)).on(0, ctrl_qudits=2, ctrl_states=1),\n",
    "    RX(dim, [1, 2], pr=1.0).on(2),\n",
    "    RY(dim, [0, 2]).on(3, 2),\n",
    "    RZ(dim, [0, 1]).on(3, 2),\n",
    "    GP(dim, pr=\"gh_pr\").on(3),\n",
    "])\n",
    "\n",
    "print(f\"circ2:\\n{circ2}\")\n",
    "print(f\"circ2 qs:\\n{circ2.get_qs()}\")"
   ]
  },
  {
   "cell_type": "code",
   "execution_count": 13,
   "id": "bced9ff1-ecf0-46c2-9ede-95dc765496cd",
   "metadata": {},
   "outputs": [
    {
     "name": "stdout",
     "output_type": "stream",
     "text": [
      "umg.matrix:\n",
      "[[-0.51127821+0.j  0.74557179+0.j -2.12760663+0.j]\n",
      " [ 0.26631397+0.j  0.22292879+0.j -0.29672673+0.j]\n",
      " [-0.09701117+0.j -1.30566788+0.j -1.42084384+0.j]]\n",
      "is_unitary: False\n"
     ]
    }
   ],
   "source": [
    "# Note: In QudiTop, we don't limit that the matrix must be unitary.\n",
    "# We provide the `is_unitary()` method to check if the matrix of gate is unitary.\n",
    "\n",
    "umg = UMG(dim, mat=torch.randn(dim, dim)).on(2)\n",
    "print(f\"umg.matrix:\\n{umg.matrix()}\")\n",
    "print(f\"is_unitary: {umg.is_unitary()}\")"
   ]
  },
  {
   "cell_type": "code",
   "execution_count": 14,
   "id": "d2e4d87f-7141-4660-803a-bf99e946b114",
   "metadata": {},
   "outputs": [
    {
     "data": {
      "text/plain": [
       "{'pr': 0.0}"
      ]
     },
     "execution_count": 14,
     "metadata": {},
     "output_type": "execute_result"
    }
   ],
   "source": [
    "circ = Circuit(3, 3, gates=[RX(3, [0, 1], pr='pr').on(0)])\n",
    "circ.get_parameters()"
   ]
  }
 ],
 "metadata": {
  "kernelspec": {
   "display_name": "Python 3 (ipykernel)",
   "language": "python",
   "name": "python3"
  },
  "language_info": {
   "codemirror_mode": {
    "name": "ipython",
    "version": 3
   },
   "file_extension": ".py",
   "mimetype": "text/x-python",
   "name": "python",
   "nbconvert_exporter": "python",
   "pygments_lexer": "ipython3",
   "version": "3.8.18"
  }
 },
 "nbformat": 4,
 "nbformat_minor": 5
}
